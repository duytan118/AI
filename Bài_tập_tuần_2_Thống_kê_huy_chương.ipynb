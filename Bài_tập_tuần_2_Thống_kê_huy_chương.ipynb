{
  "nbformat": 4,
  "nbformat_minor": 0,
  "metadata": {
    "colab": {
      "provenance": [],
      "authorship_tag": "ABX9TyON4hkIRTYGZoMsk7JEgjwN",
      "include_colab_link": true
    },
    "kernelspec": {
      "name": "python3",
      "display_name": "Python 3"
    },
    "language_info": {
      "name": "python"
    }
  },
  "cells": [
    {
      "cell_type": "markdown",
      "metadata": {
        "id": "view-in-github",
        "colab_type": "text"
      },
      "source": [
        "<a href=\"https://colab.research.google.com/github/duytan118/AI/blob/main/B%C3%A0i_t%E1%BA%ADp_tu%E1%BA%A7n_2_Th%E1%BB%91ng_k%C3%AA_huy_ch%C6%B0%C6%A1ng.ipynb\" target=\"_parent\"><img src=\"https://colab.research.google.com/assets/colab-badge.svg\" alt=\"Open In Colab\"/></a>"
      ]
    },
    {
      "cell_type": "code",
      "execution_count": 37,
      "metadata": {
        "colab": {
          "base_uri": "https://localhost:8080/"
        },
        "id": "qSN6EN1qx2sR",
        "outputId": "efaba375-3b55-4aa5-e50e-bef0af308daf"
      },
      "outputs": [
        {
          "output_type": "stream",
          "name": "stdout",
          "text": [
            "Tổng số huy chương của Bỉ tại Olympic mùa đông là:  5\n",
            "Tổng số huy chương Vàng của Bỉ tại Olympic mùa đông là:  1\n",
            "Tổng số huy chương Bạc của Bỉ tại Olympic mùa đông là:  1\n",
            "Tổng số huy chương Đồng của Bỉ tại Olympic mùa đông là:  3\n",
            "Nước có nhiều huy chương nhất:  YUG\n",
            "Số huy chương của từng môn: \n"
          ]
        },
        {
          "output_type": "execute_result",
          "data": {
            "text/plain": [
              "Skiing        1060\n",
              "Skating        758\n",
              "Biathlon       162\n",
              "Bobsleigh      133\n",
              "Luge           108\n",
              "Ice Hockey      69\n",
              "Curling         21\n",
              "Name: Sport, dtype: int64"
            ]
          },
          "metadata": {},
          "execution_count": 37
        }
      ],
      "source": [
        "import pandas as pd\n",
        "url = 'http://winterolympicsmedals.com/medals.csv'\n",
        "data = pd.read_csv(url)\n",
        "G = len(data[(data['Medal']=='Gold')&(data['NOC']=='BEL')])\n",
        "S = len(data[(data['Medal']=='Silver')&(data['NOC']=='BEL')])\n",
        "B = len(data[(data['Medal']=='Bronze')&(data['NOC']=='BEL')])\n",
        "ALL = G+S+B\n",
        "print('Tổng số huy chương của Bỉ tại Olympic mùa đông là: ', ALL)\n",
        "print('Tổng số huy chương Vàng của Bỉ tại Olympic mùa đông là: ', G)\n",
        "print('Tổng số huy chương Bạc của Bỉ tại Olympic mùa đông là: ', S)\n",
        "print('Tổng số huy chương Đồng của Bỉ tại Olympic mùa đông là: ', B)\n",
        "data[data['NOC']=='BEL'].head()\n",
        "print('Nước có nhiều huy chương nhất: ', data['NOC'].max())\n",
        "print('Số huy chương của từng môn: ')\n",
        "data['Sport'].value_counts()\n",
        "\n"
      ]
    },
    {
      "cell_type": "code",
      "source": [],
      "metadata": {
        "id": "fyGWrUat4uGu"
      },
      "execution_count": null,
      "outputs": []
    }
  ]
}