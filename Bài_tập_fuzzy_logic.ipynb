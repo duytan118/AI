{
  "nbformat": 4,
  "nbformat_minor": 0,
  "metadata": {
    "colab": {
      "provenance": [],
      "authorship_tag": "ABX9TyMmHgLgH7GBMsxtVX1mJ8sF",
      "include_colab_link": true
    },
    "kernelspec": {
      "name": "python3",
      "display_name": "Python 3"
    },
    "language_info": {
      "name": "python"
    }
  },
  "cells": [
    {
      "cell_type": "markdown",
      "metadata": {
        "id": "view-in-github",
        "colab_type": "text"
      },
      "source": [
        "<a href=\"https://colab.research.google.com/github/duytan118/AI/blob/main/B%C3%A0i_t%E1%BA%ADp_fuzzy_logic.ipynb\" target=\"_parent\"><img src=\"https://colab.research.google.com/assets/colab-badge.svg\" alt=\"Open In Colab\"/></a>"
      ]
    },
    {
      "cell_type": "code",
      "execution_count": 1,
      "metadata": {
        "colab": {
          "base_uri": "https://localhost:8080/"
        },
        "id": "tfMimoNAUklz",
        "outputId": "849ad03e-44f9-4fbd-bc31-da9dc4d2faae"
      },
      "outputs": [
        {
          "output_type": "stream",
          "name": "stdout",
          "text": [
            "Looking in indexes: https://pypi.org/simple, https://us-python.pkg.dev/colab-wheels/public/simple/\n",
            "Collecting scikit-fuzzy\n",
            "  Downloading scikit-fuzzy-0.4.2.tar.gz (993 kB)\n",
            "\u001b[2K     \u001b[90m━━━━━━━━━━━━━━━━━━━━━━━━━━━━━━━━━━━━━━\u001b[0m \u001b[32m994.0/994.0 KB\u001b[0m \u001b[31m15.4 MB/s\u001b[0m eta \u001b[36m0:00:00\u001b[0m\n",
            "\u001b[?25h  Preparing metadata (setup.py) ... \u001b[?25l\u001b[?25hdone\n",
            "Requirement already satisfied: numpy>=1.6.0 in /usr/local/lib/python3.9/dist-packages (from scikit-fuzzy) (1.22.4)\n",
            "Requirement already satisfied: scipy>=0.9.0 in /usr/local/lib/python3.9/dist-packages (from scikit-fuzzy) (1.10.1)\n",
            "Requirement already satisfied: networkx>=1.9.0 in /usr/local/lib/python3.9/dist-packages (from scikit-fuzzy) (3.0)\n",
            "Building wheels for collected packages: scikit-fuzzy\n",
            "  Building wheel for scikit-fuzzy (setup.py) ... \u001b[?25l\u001b[?25hdone\n",
            "  Created wheel for scikit-fuzzy: filename=scikit_fuzzy-0.4.2-py3-none-any.whl size=894086 sha256=ac2edd71b176f16b7c27be1838690f0617b9d1b887e295def76b6f7d6fc004a9\n",
            "  Stored in directory: /root/.cache/pip/wheels/32/2c/a1/a90a7d7dd8448ec029f298a61f3490275e99b17aa348be675c\n",
            "Successfully built scikit-fuzzy\n",
            "Installing collected packages: scikit-fuzzy\n",
            "Successfully installed scikit-fuzzy-0.4.2\n"
          ]
        }
      ],
      "source": [
        "pip install scikit-fuzzy"
      ]
    },
    {
      "cell_type": "markdown",
      "source": [
        "Hệ thống chẩn đoán y khoa sử dụng fuzzy logic"
      ],
      "metadata": {
        "id": "jEJmh1b6W_Ru"
      }
    },
    {
      "cell_type": "code",
      "source": [
        "from skfuzzy import membership\n",
        "import numpy as np\n",
        "import skfuzzy as fuzz\n",
        "from skfuzzy import control as ctrl\n",
        "\n",
        "fuzzyValues = np.arange(0.1, 1.0, 0.001)\n",
        "\n",
        "# Inputs\n",
        "fever = ctrl.Antecedent(fuzzyValues, 'Fever')\n",
        "headache = ctrl.Antecedent(fuzzyValues, 'Headache')\n",
        "nausea = ctrl.Antecedent(fuzzyValues, 'Nausea')\n",
        "vomiting = ctrl.Antecedent(fuzzyValues, 'Vomiting')\n",
        "jaundice = ctrl.Antecedent(fuzzyValues, 'Jaundice')\n",
        "enlargeLiver = ctrl.Antecedent(fuzzyValues, 'Enlarge Liver')\n",
        "jointPain = ctrl.Antecedent(fuzzyValues, 'Joint Pain')\n",
        "bodyWeakness = ctrl.Antecedent(fuzzyValues, 'Body Weakness')\n",
        "dizziness = ctrl.Antecedent(fuzzyValues, 'Dizziness')\n",
        "lossOfAppetite = ctrl.Antecedent(fuzzyValues, 'Loss Of Appetite')\n",
        "MP = ctrl.Antecedent(fuzzyValues, 'MP')\n",
        "\n",
        "# Output\n",
        "result = ctrl.Consequent(fuzzyValues, 'Result')\n",
        "\n",
        "# Membership\n",
        "def MembershipFunction(field):\n",
        "    field['Mild'] = fuzz.trimf(fuzzyValues, [0.1, 0.2, 0.3])\n",
        "    field['Moderate'] = fuzz.trimf(fuzzyValues, [0.3, 0.45, 0.6])\n",
        "    field['Severe'] = fuzz.trimf(fuzzyValues, [0.6, 0.7, 0.8])\n",
        "    field['Very Severe'] = fuzz.trimf(fuzzyValues, [0.8, 0.9, 1.0])\n",
        "    \n",
        "  \n",
        "MembershipFunction(fever)\n",
        "MembershipFunction(headache)\n",
        "MembershipFunction(nausea)\n",
        "MembershipFunction(vomiting)\n",
        "MembershipFunction(jaundice)\n",
        "MembershipFunction(enlargeLiver)\n",
        "MembershipFunction(jointPain)\n",
        "MembershipFunction(bodyWeakness)\n",
        "MembershipFunction(dizziness)\n",
        "MembershipFunction(lossOfAppetite)\n",
        "MembershipFunction(MP)\n",
        "MembershipFunction(result)\n",
        "\n",
        "\n",
        "value = {1: 'Mild', 2: 'Moderate', 3: 'Severe', 4: 'Very Severe'}\n",
        "rule = []\n",
        "\n",
        "def Rule(i):\n",
        "    f1 = value[val_fever[i]]\n",
        "    f2 = value[val_headache[i]]\n",
        "    f3 = value[val_nausea[i]]\n",
        "    f4 = value[val_vomiting[i]]\n",
        "    f5 = value[val_jaundice[i]]\n",
        "    f6 = value[val_enlargeLiver[i]]\n",
        "    f7 = value[val_jointPain[i]]\n",
        "    f8 = value[val_bodyWeakness[i]]\n",
        "    f9 = value[val_dizziness[i]]\n",
        "    f10 = value[val_lossOfAppetite[i]]\n",
        "    f11 = value[val_MP[i]]\n",
        "    c = value[con[i]]\n",
        "\n",
        "    rule.append(ctrl.Rule(fever[f1] & headache[f2] & nausea[f3] &\n",
        "        vomiting[f4] & jaundice[f5] & enlargeLiver[f6] & jointPain[f7] &\n",
        "        bodyWeakness[f8] & dizziness[f9] & lossOfAppetite[f10] & MP[f11], result[c] ))\n",
        "    \n",
        "val_fever          = [1,2,3,4,2,1,1,2,2,1,3,2,1,3,1,4,1,2,2,4]\n",
        "val_headache       = [1,1,2,1,1,2,1,2,1,1,3,3,2,3,1,2,4,4,2,3]\n",
        "val_nausea         = [1,1,1,1,1,2,2,2,2,2,3,2,2,2,1,1,2,4,2,3]\n",
        "val_vomiting       = [1,1,1,1,2,1,2,2,2,2,3,3,2,3,2,2,2,1,2,3]\n",
        "val_jaundice       = [1,1,1,1,1,1,1,2,1,1,3,2,1,3,1,3,1,3,1,3]\n",
        "val_enlargeLiver   = [1,1,1,1,1,1,1,2,3,2,3,3,1,3,1,2,2,3,1,3]\n",
        "val_jointPain      = [1,2,1,3,2,1,3,2,2,1,3,2,1,3,1,1,1,2,2,3]\n",
        "val_bodyWeakness   = [1,2,3,3,2,1,3,2,2,1,4,3,2,3,3,4,2,3,2,3]\n",
        "val_dizziness      = [3,3,3,1,2,2,2,2,3,1,3,2,1,2,1,3,4,4,2,3]\n",
        "val_lossOfAppetite = [1,3,3,1,3,1,2,2,2,1,3,1,2,2,3,1,1,4,2,3]\n",
        "val_MP             = [1,2,2,3,2,1,2,2,2,1,2,2,2,3,2,2,2,3,2,2]\n",
        "con                = [1,2,3,4,2,1,3,2,2,1,4,3,2,3,3,4,4,4,2,4]\n",
        "\n",
        "for i in range(20):\n",
        "    Rule(i)\n",
        "#Control system\n",
        "conclusion_control = ctrl.ControlSystem(rule)\n",
        "conclusion_simulation = ctrl.ControlSystemSimulation(conclusion_control)\n",
        "\n",
        "# Compute\n",
        "conclusion_simulation.inputs({'Fever': 0.2, 'Headache': 0.2, 'Nausea': 0.2, \n",
        "                               'Vomiting': 0.2, 'Jaundice': 0.2,'Enlarge Liver': 0.2,\n",
        "                               'Joint Pain': 0.2, 'Body Weakness': 0.2, 'Dizziness': 0.7, 'Loss Of Appetite': 0.2, 'MP': 0.2})\n",
        "conclusion_simulation.compute()\n",
        "print(conclusion_simulation.output['Result'])\n",
        "result.view(sim = conclusion_simulation)"
      ],
      "metadata": {
        "colab": {
          "base_uri": "https://localhost:8080/",
          "height": 298
        },
        "id": "WOOf9h2SWQ16",
        "outputId": "72bd6672-f28a-4c2b-9f06-a2a0f96046a2"
      },
      "execution_count": 4,
      "outputs": [
        {
          "output_type": "stream",
          "name": "stdout",
          "text": [
            "0.1999999999999999\n"
          ]
        },
        {
          "output_type": "display_data",
          "data": {
            "text/plain": [
              "<Figure size 432x288 with 1 Axes>"
            ],
            "image/png": "[encoded data removed]"
          },
          "metadata": {
            "needs_background": "light"
          }
        }
      ]
    },
    {
      "cell_type": "code",
      "source": [],
      "metadata": {
        "id": "QQRta41tXFC0"
      },
      "execution_count": null,
      "outputs": []
    }
  ]
}